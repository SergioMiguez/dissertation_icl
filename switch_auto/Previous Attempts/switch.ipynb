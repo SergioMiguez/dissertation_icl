{
 "cells": [
  {
   "cell_type": "code",
   "execution_count": 6,
   "metadata": {},
   "outputs": [],
   "source": [
    "import requests"
   ]
  },
  {
   "cell_type": "code",
   "execution_count": 7,
   "metadata": {},
   "outputs": [],
   "source": [
    "# base URL of switch\n",
    "base_url = 'http://192.168.1.43'\n",
    "\n",
    "# Session to keep Cookies and credentials \n",
    "session = requests.Session()\n",
    "\n",
    "# Headers\n",
    "common_headers = {\n",
    "    'User-Agent': 'Mozilla/5.0 (Windows NT 10.0; Win64; x64) AppleWebKit/537.36 (KHTML, like Gecko) Chrome/126.0.6478.127 Safari/537.36',\n",
    "    'Accept': 'text/html,application/xhtml+xml,application/xml;q=0.9,image/avif,image/webp,*/*;q=0.8',\n",
    "    'Accept-Language': 'en-US,en;q=0.5',\n",
    "    'Accept-Encoding': 'gzip, deflate, br',\n",
    "    'Connection': 'keep-alive',\n",
    "    'Upgrade-Insecure-Requests': '1',\n",
    "}"
   ]
  },
  {
   "cell_type": "code",
   "execution_count": 8,
   "metadata": {},
   "outputs": [
    {
     "name": "stdout",
     "output_type": "stream",
     "text": [
      "Login response: 200 <script>\n",
      "var logonInfo = new Array(\n",
      "0,\n",
      "0,0);\n",
      "var g_Lan = 393;\n",
      "var g_year=2023;\n",
      "</script>\n",
      " <head> <meta http-equiv=pragma content=no-cache> <meta http-equiv=expires content=\"wed, 26 Feb 1997 08:21:57 GMT\"> <script>window.parent!=window&&(window.parent.location=\"/\");var account_restored=0,errType=logonInfo[0];function goUrl(e){window.open(e,\"\",\"\")}function resize(e){var t,o;o=document.all?(t=document.body.offsetWidth,document.body.offsetHeight):(t=window.innerWidth,window.innerHeight),document.getElementById(e).style.left=.5*(t-400),document.getElementById(e).style.top=.3*(o-300)}function doClear(){document.getElementById(\"username\").value=\"\",document.getElementById(\"password\").value=\"\",document.getElementById(\"cpassword\").value=\"\",window.focus&&self.focus(),document.getElementById(\"username\").focus(),document.getElementById(\"username\").select(),account_restored?(document.getElementById(\"ret_info\").innerHTML='<SPAN class=\"TIPS_NORMAL\" id=\"t_error6\">To protect your network and devices better, please change your password.</SPAN>',document.getElementById(\"ret_info\").style.display=\"block\"):document.getElementById(\"ret_info\").style.display=\"none\"}function doPrintfTableHeadBorder(e,t,o,n,r){var d=\"\";d+='<TABLE style=\"TABLE-LAYOUT: fixed\" height='+n+\" cellSpacing=0 cellPadding=0 width=\"+o+\" border=0>\",d+=\"<TBODY><TR><TD>\",d+='<TABLE style=\"table-LAYOUT: fixed\" height=3 cellSpacing=0 cellPadding=0 width='+o+\" border=0>\",d+=\"<TBODY><TR height=1><TD width=1></TD><TD width=1></TD><TD width=1></TD><TD bgColor=\"+e+\"></TD><TD width=1></TD><TD width=1></TD><TD width=1></TD></TR>\",d+=\"<TR height=1><TD colspan=2></TD><TD bgColor=\"+e+\"></TD><TD bgColor=\"+t+\"></TD><TD bgColor=\"+e+\"><TD colspan=2></TD></TR>\",d+=\"<TR height=1><TD width=1></TD><TD width=1 bgColor=\"+e+\"></TD><TD width=1 bgColor=\"+t+\"><TD bgColor=\"+t+\"></TD><TD width=1 bgColor=\"+t+\"></TD><TD width=1 bgColor=\"+e+\"></TD><TD width=1></TD></TR>\",d+=\"</TBODY></TABLE></TD></TR>\",d+='<TR><TD><TABLE style=\"table-LAYOUT: fixed\" height='+(n-3)+\" cellSpacing=0 cellPadding=0 border=0>\",d+=\"<TBODY><TR><TD width=1 bgColor=\"+e+\"></TD><TD height=1 bgColor=\"+t+\" width=\"+(o-2)+\"></TD><TD width=1 bgColor=\"+e+\"></TD></TR><TR><TD width=1 bgColor=\"+e+\"></TD>\",d+=\"<TD id=oINNER bgColor=\"+t+\" width=\"+(o-2)+\" align=center vAlign=middle>\"+r+\"</TD>\",d+=\"<TD width=1 bgColor=\"+e+\"></TD></TR></TBODY></TABLE></TD></TR></TBODY></TABLE>\",document.write(d)}function doPrintfTableBottomBorder(e,t,o,n,r){var d=n||\"auto\",n=\"\";n+='<TABLE style=\"TABLE-LAYOUT: fixed\" height='+d+\" cellSpacing=0 cellPadding=0 width=\"+o+\" border=0>\",n+=\"<TBODY><TR><TD>\",n+='<TABLE style=\"TABLE-LAYOUT: fixed\" height=1 cellSpacing=0 cellPadding=0 width='+o+\" border=0>\",n+=\"<TBODY><TR height=1 width=\"+o+\"><TD bgColor=\"+e+\"></TD></TR></TBODY></TABLE></TD></TR>\",n+='<TR><TD><TABLE style=\"table-LAYOUT: fixed\" height='+d+\" cellSpacing=0 cellPadding=0 border=0>\",n+=\"<TBODY>\",n+=\"<TR height=\"+d+\"><TD width=1 bgColor=\"+e+\"></TD>\",n+=\"<TD id=oINNER width=\"+(o-2)+\" bgColor=\"+t+' valign=\"top\">'+r+\"</TD>\",n+=\"<TD width=1 bgColor=\"+e+\"></TD></TR></TBODY></TABLE></TD></TR>\",n+=\"<TR height=3 width=\"+o+\"><TD>\",n+='<TABLE style=\"table-LAYOUT: fixed\" height=3 cellSpacing=0 cellPadding=0 width='+o+\" border=0><TBODY>\",n+=\"<TR height=1><TD width=1></TD><TD width=1 bgColor=\"+e+\"></TD><TD width=1 bgColor=\"+t+\"><TD bgColor=\"+t+\"></TD><TD width=1 bgColor=\"+t+\"></TD><TD width=1 bgColor=\"+e+\"></TD><TD width=1></TD></TR>\",n+=\"<TR height=1><TD></TD><TD bgColor=\"+e+\" colSpan=2></TD><TD bgColor=\"+t+\"></TD><TD bgColor=\"+e+\" colSpan=2></TD><TD width=1></TD></TR>\",n+=\"<TR height=1><TD colSpan=3></TD><TD bgColor=\"+e+\"></TD><TD colSpan=3></TD></TR>\",n+=\"</TBODY></TABLE></TD></TR></TBODY></TABLE>\",document.write(n)}function SetBackgroundImageCache(e){var t=navigator.userAgent.toLowerCase(),o=(t.match(/.+(?:rv|it|ra|ie)[\\/: ]([\\d.]+)/)||[])[1];if(/msie/.test(t)&&o<7)try{document.execCommand(\"BackgroundImageCache\",!1,!0)}catch(e){}}function doPasswordFocus(){account_restored&&(document.getElementById(\"password_info\").innerHTML='<SPAN class=\"INFO_NORMAL\" id=\"t_error14\">The password should contain 6-16 characters using only English letters, digits and underlines.</SPAN>',document.getElementById(\"password_info\").style.display=\"block\")}function doPasswordBlur(){account_restored&&(document.getElementById(\"password_info\").innerHTML=\"\",document.getElementById(\"password_info\").style.display=\"none\")}function doOnclick(){var e;if(!account_restored){if(\"\"==document.forms[0].username.value)return e='<SPAN class=\"WARN_NORMAL\" id=\"t_error7\">The user name can not be empty.</SPAN>',document.getElementById(\"ret_info\").innerHTML=e,document.getElementById(\"ret_info\").style.display=\"block\",document.forms[0].username.focus(),!1;if(16<document.forms[0].username.value.length)return e='<SPAN class=\"WARN_NORMAL\" id=\"t_error8\">The length of the user name must be not more than 16 characters.</SPAN>',document.getElementById(\"ret_info\").innerHTML=e,document.getElementById(\"ret_info\").style.display=\"block\",document.forms[0].username.focus(),!1;if(!document.forms[0].username.value.match(/^[a-zA-Z0-9_]+$/))return e='<SPAN class=\"WARN_NORMAL\" id=\"t_error15\">Invalid user name.</SPAN>',document.getElementById(\"ret_info\").innerHTML=e,document.getElementById(\"ret_info\").style.display=\"block\",document.forms[0].username.focus(),!1}if(\"\"==document.forms[0].password.value)return e='<SPAN class=\"WARN_NORMAL\" id=\"t_error9\">The user password can not be empty.</SPAN>',document.getElementById(\"ret_info\").innerHTML=e,document.getElementById(\"ret_info\").style.display=\"block\",document.forms[0].password.focus(),!1;if(16<document.forms[0].password.value.length)return e='<SPAN class=\"WARN_NORMAL\" id=\"t_error10\">The length of the user password must be not more than 16 characters.</SPAN>',document.getElementById(\"ret_info\").innerHTML=e,document.getElementById(\"ret_info\").style.display=\"block\",document.forms[0].password.focus(),!1;if(!document.forms[0].password.value.match(/^[a-zA-Z0-9_]+$/))return e='<SPAN class=\"WARN_NORMAL\" id=\"t_error16\">Invalid password.</SPAN>',document.getElementById(\"ret_info\").innerHTML=e,document.getElementById(\"ret_info\").style.display=\"block\",document.forms[0].password.focus(),!1;if(account_restored){if(document.forms[0].password.value.length<6)return e='<SPAN class=\"WARN_NORMAL\" id=\"t_error10\">The length of the new password must be not less than 6 characters.</SPAN>',document.getElementById(\"ret_info\").innerHTML=e,document.getElementById(\"ret_info\").style.display=\"block\",document.forms[0].password.focus(),!1;if(\"\"==document.forms[0].cpassword.value)return e='<SPAN class=\"WARN_NORMAL\" id=\"t_error11\">The confirm password can not be empty.</SPAN>',document.getElementById(\"ret_info\").innerHTML=e,document.getElementById(\"ret_info\").style.display=\"block\",document.forms[0].cpassword.focus(),!1;if(document.forms[0].password.value!=document.forms[0].cpassword.value)return e='<SPAN class=\"WARN_NORMAL\" id=\"t_error13\">New Password and Confirm Password do not match.</SPAN>',document.getElementById(\"ret_info\").innerHTML=e,document.getElementById(\"ret_info\").style.display=\"block\",document.forms[0].cpassword.focus(),!1;if(16<document.forms[0].cpassword.value.length||document.forms[0].cpassword.value.length<6)return e='<SPAN class=\"WARN_NORMAL\" id=\"t_error12\">The length of the confirm password must be 6-16 characters long.</SPAN>',document.getElementById(\"ret_info\").innerHTML=e,document.getElementById(\"ret_info\").style.display=\"block\",document.forms[0].cpassword.focus(),!1;if(!document.forms[0].cpassword.value.match(/^[a-zA-Z0-9_]+$/))return e='<SPAN class=\"WARN_NORMAL\" id=\"t_error17\">The confirm password should contain 6-16 characters using only English letters, digits and underlines.</SPAN>',document.getElementById(\"ret_info\").innerHTML=e,document.getElementById(\"ret_info\").style.display=\"block\",document.forms[0].cpassword.focus(),!1}return!0}window.onload=function(){0!=errType||-1==top.location.href.indexOf(\"logon.cgi\")&&-1==top.location.href.indexOf(\"lupg_abort.cgi\")?(document.body.style.display=\"block\",resize(\"center\")):document.location.href=\"/\";var e,t=document.getElementById(\"username\");t.focus(),t.select(),resize(\"center\"),0==errType?document.getElementById(\"ret_info\").style.display=\"none\":1==errType?(document.getElementById(\"ret_info\").style.display=\"block\",str='<SPAN class=\"WARN_NORMAL\" id=\"t_error1\">The user name or the password is wrong.</SPAN>',document.getElementById(\"ret_info\").innerHTML=str):2==errType?(document.getElementById(\"ret_info\").style.display=\"block\",str='<SPAN class=\"WARN_NORMAL\" id=\"t_error2\">The user is not allowed to login.</SPAN>',document.getElementById(\"ret_info\").innerHTML=str):3==errType?(e='<SPAN class=\"WARN_NORMAL\" id=\"t_error3\">The number of the user that allowed to login has been full.</SPAN>',document.getElementById(\"ret_info\").innerHTML=e,document.getElementById(\"ret_info\").style.display=\"block\"):4==errType?(e='<SPAN class=\"WARN_NORMAL\" id=\"t_error4\">The number of the login user has been full,it is allowed 16 people to login at the same time.</SPAN>',document.getElementById(\"ret_info\").innerHTML=e,document.getElementById(\"ret_info\").style.display=\"block\"):5==errType?(e='<SPAN class=\"WARN_NORMAL\" id=\"t_error5\">The session is timeout.<br>Please login again.</SPAN>',document.getElementById(\"ret_info\").innerHTML=e,document.getElementById(\"ret_info\").style.display=\"block\"):6==errType?(e='<SPAN class=\"TIPS_NORMAL\" id=\"t_error6\">To protect your network and devices better, please change your password.</SPAN>',document.getElementById(\"ret_info\").innerHTML=e,document.getElementById(\"ret_info\").style.display=\"block\",document.getElementById(\"r_username\").style.display=\"none\",document.getElementById(\"t_userpwd\").innerHTML=\"New Password:\",document.getElementById(\"r_cpassword\").style.display=\"\",document.getElementById(\"logon\").value=\"Confirm\",account_restored=1):(str='<SPAN class=\"WARN_NORMAL\" id=\"t_error0\">Unkonwn error</SPAN>',document.getElementById(\"ret_info\").innerHTML=str,document.getElementById(\"ret_info\").style.display=\"block\"),SetBackgroundImageCache(this)}</script> <style type=text/css>#center{margin:0;padding:0;border:solid 0;height:300px;width:400px;position:relative}body{margin:20px;font-family:Arial;font-size:12px;overflow:hidden}BODY.LOGIN_L{background-color:#fff;margin:0;padding:0}div.TOP{background-image:url(top_bg.gif);background-repeat:repeat-x;background-color:#21628e;width:400px;font-size:0;margin:0;padding:0}DIV.MAIN_PAINT{border:dotted 0 red;width:400px;height:100%;font-size:0;margin:0;padding:0}TD.COLBLANK{width:20px}INPUT.BTN_NORMAL{font-family:Arial;font-size:12px;border-color:#7f9db9;border-width:1px;border-style:solid;width:55px}TABLE.NORMAL{font-size:12px;font-family:Arial}SPAN.NORMAL{font-size:12px;font-family:Arial}SPAN.WARN_NORMAL{font-size:12px;font-family:Arial;color:#c11c66}SPAN.TIPS_NORMAL{font-size:12px;font-family:Arial;color:#005564}SPAN.INFO_NORMAL{font-size:12px;font-family:Arial;color:#a7a9ac}TD.FRAMEWORK_LEFT{text-align:left}INPUT.TEXT_ENABLE{font-family:Arial;font-size:12px;border-color:#7f9db9;border-width:1px;border-style:solid}SPAN.BTN{font-size:12px;font-family:Arial;display:block;background-image:url(button.gif);background-position:left -42px;text-decoration:none;height:21px;float:left;margin:0}SPAN.BTN input{background-image:url(button.gif);background-position:right -42px;padding:4px 3px 4px 0;margin:0 0 0 3px;float:left;height:21px;font-size:12px;cursor:pointer;border:none}SPAN.BTN_HOVER{font-size:12px;font-family:Arial;display:block;background-image:url(button.gif);background-position:left -20px;text-decoration:none;height:21px;float:left;margin:0}SPAN.BTN_HOVER input{background-image:url(button.gif);background-position:right -20px;padding:4px 3px 4px 0;margin:0 0 0 3px;height:21px;font-size:12px;cursor:pointer;border:none}SPAN.COPY{font-size:12px;font-family:Arial}</style> </head> <body class=LOGIN_L onresize='resize(\"center\")' style=display:none> <div id=center> <div id=center-top> <script>var banner='<div class=\"TOP\"><IMG src=\"logo.png\" onClick=\"javascript:goUrl(\\'';0==g_Lan?banner+=\"http://www.tp-link.com.cn\":banner+=\"http://www.tp-link.com\",banner+='\\');\" style=\"cursor:pointer;\" align=\"center\"></IMG></DIV>',doPrintfTableHeadBorder(\"#36444B\",\"#36444B\",400,60,banner)</script> </div> <div id=center-main> <div class=MAIN_PAINT> <script>function doPrintfTable(e,T,s,t,a){var i=\"\";i+='<FORM id=\"form0\" method=\"POST\" name=\"submitForm\"  action=\"/logon.cgi\">',i+='<TABLE align=\"center\" valign=\"top\" width=\"'+s+'px;\" height=\"20px;\" border=0><TR height=\"20px;\"><TD></TD></TR>',i+='<TR height=\"20px;\"><TD><DIV id=\"ret_info\" style=\"border:solid 1px #388BA9;display:none;padding:3px;width:'+(s-12)+'px !important;text-align:center;\">',i+='</DIV></TD></TR><TR height=\"10px;\"><TD></TD></TR>',i+='</TABLE><TABLE align=\"center\" width=\"'+s+'px;\" border=0 class=\"NORMAL\" ><TR id=\"r_username\">',i+='<TD class=\"FRAMEWORK_LEFT\" style=\"width:'+t+'px\"><SPAN id=\"t_username\">User Name:</SPAN></TD>',i+='<TD class=\"FRAMEWORK_RIGHT\" style=\"width:'+a+'px\" ><INPUT type=\"text\" value=\"\" id=\"username\" name=\"username\" class=\"TEXT_ENABLE\"  maxlength=\"16\" tabindex=\"0\"   style=\"width:100%\"></TD></TR>',i+='<TR><TD class=\"FRAMEWORK_LEFT\" style=\"width:'+t+'px\"><SPAN id=\"t_userpwd\">Password:</SPAN></TD><TD class=\"FRAMEWORK_RIGHT\" style=\"width:'+a+'px\"><INPUT type=\"password\" value=\"\" id=\"password\" name=\"password\" class=\"TEXT_ENABLE\" maxlength=\"16\" tabindex=\"0\" style=\"width:100%\" onFocus=\"doPasswordFocus();\" onBlur=\"doPasswordBlur();\"></TD></TR>',i+='<TR><TD colspan=\"2\"><DIV id=\"password_info\" style=\"display:none;\">',i+=\"</DIV></TD></TR>\",i+='<TR id=\"r_cpassword\" style=\"display:none\"><TD class=\"FRAMEWORK_LEFT\" style=\"width:'+t+'px\"><SPAN id=\"t_confpwd\">Confirm Password:</SPAN></TD><TD class=\"FRAMEWORK_RIGHT\" style=\"width:'+a+'px\"><INPUT type=\"password\" value=\"\" id=\"cpassword\" name=\"cpassword\" class=\"TEXT_ENABLE\" maxlength=\"16\" tabindex=\"0\"   style=\"width:100%\"></TD></TR><TR style=\"height:10px !important;height;0px;\"></TR></TABLE>',i+='<TABLE align=\"center\" border=0>',i+='<TR height=\"0px;\"><TD></TD></TR>',i+='<TR><TD colspan=\"2\"><TABLE cellpadding=\"0\" cellspacing=\"0\" align=\"center\" border=0><TR>',i+='<TD><SPAN class=\"BTN\" ><INPUT type=\"submit\" name=\"logon\" id=\"logon\" class=\"BTN_NORMAL\" value=\"Login\" onClick=\"return doOnclick();\" tabindex=\"0\"></SPAN></TD>',i+='<TD class=\"COLBLANK\">&nbsp;</TD><TD><SPAN class=\"BTN\"><INPUT type=\"button\"  value=\"Clear\" id=\"btn_clear\" name=\"btn_clear\"  class=\"BTN_NORMAL\" onClick=\"doClear();\" tabindex=\"0\"/></SPAN></TD>',i+=\"</TD></TR></TABLE></TD></TR></TABLE>\",i+=\"</FORM>\",doPrintfTableBottomBorder(\"#36444B\",\"#F7F8F9\",e,T,i)}6!=errType?doPrintfTable(400,200,240,90,150):doPrintfTable(400,200,280,130,150)</script> <table cellspacing=0 cellpadding=0 border=0 align=center class=NORMAL> <tbody> <tr> <td> <span>Copyright&nbsp<span class=COPY>&copy;</span> <script>document.write(top.g_year)</script> </span><span id=t_corporation>&nbspTP-Link Corporation Limited. </span></td> </tr> <tr> <td align=center><span id=t_copyright>All rights reserved</span></td> </tr> </tbody> </table> </div></div></div>   <script></script> \n"
     ]
    }
   ],
   "source": [
    "# Step 1: Authentication\n",
    "login_url = f'{base_url}/logon.cgi'\n",
    "login_headers = common_headers.copy()\n",
    "login_headers.update({\n",
    "    'Content-Type': 'application/x-www-form-urlencoded',\n",
    "    'Referer': f'{base_url}/',\n",
    "    'Origin': base_url,\n",
    "})\n",
    "\n",
    "login_data = {\n",
    "    'username': 'admin',\n",
    "    'password': '{  }',\n",
    "    'cpassword': '',\n",
    "    'logon': 'Login'\n",
    "}\n",
    "\n",
    "# Send login request\n",
    "response = session.post(login_url, headers=login_headers, data=login_data)\n",
    "print('Login response:', response.status_code, response.text)"
   ]
  }
 ],
 "metadata": {
  "kernelspec": {
   "display_name": "Python 3",
   "language": "python",
   "name": "python3"
  },
  "language_info": {
   "codemirror_mode": {
    "name": "ipython",
    "version": 3
   },
   "file_extension": ".py",
   "mimetype": "text/x-python",
   "name": "python",
   "nbconvert_exporter": "python",
   "pygments_lexer": "ipython3",
   "version": "3.12.3"
  }
 },
 "nbformat": 4,
 "nbformat_minor": 2
}
